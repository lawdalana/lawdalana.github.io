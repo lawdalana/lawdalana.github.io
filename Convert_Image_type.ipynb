{
 "cells": [
  {
   "cell_type": "code",
   "execution_count": null,
   "id": "77d2bb88-f55f-47f0-bf7e-f01cd5959a12",
   "metadata": {
    "tags": []
   },
   "outputs": [],
   "source": [
    "!pip install pillow-avif-plugin\n",
    "!pip install pillow"
   ]
  },
  {
   "cell_type": "code",
   "execution_count": null,
   "id": "10131c4e-87e0-4123-bdd0-7a27a54c3c34",
   "metadata": {
    "tags": []
   },
   "outputs": [],
   "source": [
    "import os\n",
    "import pillow_avif\n",
    "from PIL import Image"
   ]
  },
  {
   "cell_type": "code",
   "execution_count": null,
   "id": "1f0eaa41-1991-426a-a947-0c70a71e4ae6",
   "metadata": {
    "tags": []
   },
   "outputs": [],
   "source": [
    "# Set the folder path where your images are located\n",
    "folder_path = \"./assets/img\"\n",
    "# save_path = \"./assets/img2\"\n",
    "# Loop through all files in the folder\n",
    "\n",
    "def convert_images_in_folder(folder_path):\n",
    "    # Loop through all files in the folder\n",
    "    for filename in os.listdir(folder_path):\n",
    "        file_path = os.path.join(folder_path, filename)\n",
    "\n",
    "        # Check if the current item is a folder\n",
    "        if os.path.isdir(file_path):\n",
    "            # Recursively convert images in subfolders\n",
    "            convert_images_in_folder(file_path)\n",
    "        else:\n",
    "            if filename.endswith((\".png\", \".jpg\", \".jpeg\", \".webp\")):\n",
    "                # Open the image\n",
    "                image_path = os.path.join(folder_path, filename)\n",
    "                image = Image.open(image_path)\n",
    "        \n",
    "                # Generate the new AVIF filename\n",
    "                base_name, extension = os.path.splitext(filename)\n",
    "                new_filename = base_name + \".avif\"\n",
    "                new_image_path = os.path.join(folder_path, new_filename)\n",
    "        \n",
    "                # Convert and save the image to AVIF format\n",
    "                image.save(new_image_path, format=\"avif\")\n",
    "                print(f\"Converted {filename} to {new_filename}\")\n",
    "\n",
    "convert_images_in_folder(folder_path)"
   ]
  },
  {
   "cell_type": "code",
   "execution_count": null,
   "id": "a66b42e4-2fe2-442a-a4c9-dcdcb5fafd98",
   "metadata": {},
   "outputs": [],
   "source": [
    "for filename in os.listdir(folder_path):\n",
    "    print(filename)"
   ]
  },
  {
   "cell_type": "code",
   "execution_count": null,
   "id": "4962f064-20ec-4bdd-9a97-2a8c306a92e9",
   "metadata": {},
   "outputs": [],
   "source": []
  }
 ],
 "metadata": {
  "kernelspec": {
   "display_name": "Python 3 (ipykernel)",
   "language": "python",
   "name": "python3"
  },
  "language_info": {
   "codemirror_mode": {
    "name": "ipython",
    "version": 3
   },
   "file_extension": ".py",
   "mimetype": "text/x-python",
   "name": "python",
   "nbconvert_exporter": "python",
   "pygments_lexer": "ipython3",
   "version": "3.11.7"
  }
 },
 "nbformat": 4,
 "nbformat_minor": 5
}
